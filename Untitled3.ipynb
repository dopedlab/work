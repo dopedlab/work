{
 "cells": [
  {
   "cell_type": "code",
   "execution_count": 405,
   "metadata": {
    "collapsed": false
   },
   "outputs": [
    {
     "name": "stdout",
     "output_type": "stream",
     "text": [
      "1 2 Fizz 4 Buzz Fizz 7 8 Fizz Buzz 11 Fizz 13 14 FizzBuzz\n",
      "16 17 Fizz 19 Buzz Fizz 22 23 Fizz Buzz 26 Fizz 28 29 FizzBuzz\n",
      "31 32 Fizz 34 Buzz Fizz 37 38 Fizz Buzz 41 Fizz 43 44 FizzBuzz\n",
      "46 47 Fizz 49 Buzz Fizz 52 53 Fizz Buzz 56 Fizz 58 59 FizzBuzz\n",
      "61 62 Fizz 64 Buzz Fizz 67 68 Fizz Buzz 71 Fizz 73 74 FizzBuzz\n",
      "76 77 Fizz 79 Buzz Fizz 82 83 Fizz Buzz 86 Fizz 88 89 FizzBuzz\n",
      "91 92 Fizz 94 Buzz Fizz 97 98 Fizz Buzz\n"
     ]
    }
   ],
   "source": [
    "#FizzBuzz\n",
    "for i in range(1,101):\n",
    "    if i%3==0:\n",
    "        if i%5==0:\n",
    "            print \"FizzBuzz\"\n",
    "        else:\n",
    "            print \"Fizz\",\n",
    "            \n",
    "    elif i%5==0:\n",
    "        print \"Buzz\",\n",
    "    else:\n",
    "        print i,"
   ]
  },
  {
   "cell_type": "code",
   "execution_count": 406,
   "metadata": {
    "collapsed": false
   },
   "outputs": [
    {
     "name": "stdout",
     "output_type": "stream",
     "text": [
      "354224848179261915075\n"
     ]
    }
   ],
   "source": [
    "#Fibonacci\n",
    "fib1=1\n",
    "fib2=1\n",
    "for i in range(99):\n",
    "    #print fib1\n",
    "    fib2=fib2+fib1\n",
    "    fib1=fib2-fib1\n",
    "print fib1"
   ]
  },
  {
   "cell_type": "code",
   "execution_count": 407,
   "metadata": {
    "collapsed": false
   },
   "outputs": [
    {
     "name": "stdout",
     "output_type": "stream",
     "text": [
      "IN [58, 3, 58, 14, 90, 44, 14, 88, 100, 99]\n",
      "SORTED [99, 100, 88, 90, 58, 58, 3, 14, 44, 14]\n",
      "вычисляю левую сторону [99, 100, 88, 90] \n",
      "\n",
      "\n",
      "IN [99, 100, 88, 90]\n",
      "SORTED [100, 99, 88, 90]\n",
      "вычисляю правую сторону [88, 90] \n",
      "\n",
      "\n",
      "IN [88, 90]\n",
      "SORTED [90, 88]\n",
      "RETURN [90, 88] \n",
      "\n",
      "\n",
      "RETURN [100, 99, 90, 88] \n",
      "\n",
      "\n",
      "вычисляю правую сторону [3, 14, 44, 14] \n",
      "\n",
      "\n",
      "IN [3, 14, 44, 14]\n",
      "SORTED [14, 44, 14, 3]\n",
      "вычисляю левую сторону [14, 44, 14] \n",
      "\n",
      "\n",
      "IN [14, 44, 14]\n",
      "SORTED [44, 14, 14]\n",
      "RETURN [44, 14, 14] \n",
      "\n",
      "\n",
      "RETURN [44, 14, 14, 3] \n",
      "\n",
      "\n",
      "RETURN [100, 99, 90, 88, 58, 58, 44, 14, 14, 3] \n",
      "\n",
      "\n"
     ]
    },
    {
     "data": {
      "text/plain": [
       "[100, 99, 90, 88, 58, 58, 44, 14, 14, 3]"
      ]
     },
     "execution_count": 407,
     "metadata": {},
     "output_type": "execute_result"
    }
   ],
   "source": [
    "#QuickSort\n",
    "\n",
    "def qsort(mass):\n",
    "    \n",
    "    print \"IN\",mass\n",
    "    pivot=0\n",
    "    n=0\n",
    "    eq_counter=0\n",
    "\n",
    "    for i in range(len(mass)):\n",
    "        if mass[i]>mass[pivot]:\n",
    "            n=mass[i]\n",
    "            for l in range(len(mass))[i:0:-1]:\n",
    "                mass[l]=mass[l-1]               \n",
    "            mass[0]=n\n",
    "            pivot+=1        \n",
    "            \n",
    "    for i in range(pivot+1,len(mass)):\n",
    "        if mass[pivot]==mass[i]:\n",
    "            eq_counter+=1\n",
    "            for l in range(pivot,i)[::-1]:\n",
    "                mass[l+1]=mass[l]\n",
    "            mass[pivot+1]=mass[pivot]\n",
    "    print 'SORTED',mass\n",
    "    \n",
    "    if len(mass[:pivot])>1: \n",
    "        print 'вычисляю левую сторону',mass[:pivot],'\\n\\n'\n",
    "        mass[:pivot]=qsort(mass[:pivot])\n",
    "    else:mass[:pivot]=mass[:pivot]\n",
    "        \n",
    "    if len(mass[pivot+eq_counter+1:])>1:\n",
    "        print 'вычисляю правую сторону',mass[pivot+eq_counter+1:],'\\n\\n'\n",
    "        mass[pivot+eq_counter+1:]=qsort(mass[pivot+eq_counter+1:])\n",
    "    else:mass[pivot+eq_counter+1:]=mass[pivot+eq_counter+1:]\n",
    "    \n",
    "    print \"RETURN\",mass,'\\n\\n'\n",
    "    return mass\n",
    "\n",
    "qsort(mass=[58,3,58,14,90,44,14,88,100,99])"
   ]
  },
  {
   "cell_type": "code",
   "execution_count": 408,
   "metadata": {
    "collapsed": false
   },
   "outputs": [
    {
     "name": "stdout",
     "output_type": "stream",
     "text": [
      "[100, 99, 90, 88, 58, 58, 44, 14, 14, 3]\n"
     ]
    }
   ],
   "source": [
    "#QuickAndShort\n",
    "def qsort(mass):\n",
    "    if len(mass) <= 1:return mass\n",
    "    pivot = mass[0]\n",
    "    return qsort([x for x in mass if x > pivot]) + [x for x in mass if x == pivot] + qsort([x for x in mass if x < pivot])\n",
    "    \n",
    "print qsort([58,3,58,14,90,44,14,88,100,99])"
   ]
  },
  {
   "cell_type": "code",
   "execution_count": 410,
   "metadata": {
    "collapsed": false
   },
   "outputs": [
    {
     "name": "stdout",
     "output_type": "stream",
     "text": [
      "CPU times: user 5 µs, sys: 0 ns, total: 5 µs\n",
      "Wall time: 10 µs\n",
      "\n",
      "<type 'numpy.ndarray'> \t\t\tThis is NumPy\n",
      "[  3.           5.28571429   7.57142857   9.85714286  12.14285714\n",
      "  14.42857143  16.71428571  19.        ] \n",
      "\n",
      "\n",
      "CPU times: user 5 µs, sys: 1 µs, total: 6 µs\n",
      "Wall time: 11 µs\n",
      "\n",
      "<type 'list'> \t\t\tThis is Cycle\n",
      "[3, 5.285714285714286, 7.571428571428571, 9.857142857142858, 12.142857142857142, 14.428571428571427, 16.71428571428571, 18.999999999999996] \n",
      "\n",
      "\n",
      "CPU times: user 4 µs, sys: 3 µs, total: 7 µs\n",
      "Wall time: 10 µs\n",
      "\n",
      "<type 'list'> \t\t\tThis is List Comprehention\n",
      "[3.0, 5.2857142857142856, 7.5714285714285712, 9.8571428571428577, 12.142857142857142, 14.428571428571427, 16.714285714285715, 19.0] \n",
      "\n",
      "\n",
      "\n",
      "\n",
      "перезаполним, например:\n",
      "\n",
      "<type 'numpy.ndarray'>\n",
      "CPU times: user 4 µs, sys: 3 µs, total: 7 µs\n",
      "Wall time: 9.06 µs\n",
      "<type 'list'>\n",
      "CPU times: user 2 µs, sys: 3 µs, total: 5 µs\n",
      "Wall time: 7.15 µs\n",
      "\n",
      "\n",
      "умножим на число:\n",
      "\n",
      "<type 'numpy.ndarray'>\n",
      "CPU times: user 2 µs, sys: 1e+03 ns, total: 3 µs\n",
      "Wall time: 6.2 µs\n",
      "<type 'list'>\n",
      "CPU times: user 2 µs, sys: 1e+03 ns, total: 3 µs\n",
      "Wall time: 5.01 µs\n",
      "\n",
      "\n",
      "сложим:\n",
      "\n",
      "<type 'numpy.ndarray'>\n",
      "CPU times: user 4 µs, sys: 1e+03 ns, total: 5 µs\n",
      "Wall time: 8.82 µs\n",
      "<type 'list'>\n",
      "CPU times: user 4 µs, sys: 1e+03 ns, total: 5 µs\n",
      "Wall time: 10 µs\n",
      "\n",
      "\n",
      "выведем на печать:\n",
      "\n",
      "<type 'numpy.ndarray'>\n",
      "CPU times: user 3 µs, sys: 1e+03 ns, total: 4 µs\n",
      "Wall time: 7.87 µs\n",
      "[ 512.  512.  512.  512.  512.  512.  512.  512.]\n",
      "<type 'list'>\n",
      "CPU times: user 4 µs, sys: 1e+03 ns, total: 5 µs\n",
      "Wall time: 10 µs\n",
      "[826.0, 826.0, 826.0, 826.0, 826.0, 826.0, 826.0, 826.0]\n"
     ]
    }
   ],
   "source": [
    "#NumPy\n",
    "import numpy as np\n",
    "\n",
    "def func_cyc(start,finish,number):\n",
    "    i=0\n",
    "    step=start\n",
    "    chisla=[]\n",
    "    while (step>=start)&(step<=finish):\n",
    "        chisla.append(step)\n",
    "        i+=1\n",
    "        step += (finish-start)*1.0/(number-1)\n",
    "    return chisla\n",
    "\n",
    "def func_com(start,finish,number):\n",
    "    return map(lambda x:x, np.arange(start*1.0,finish*1.0+(finish*1.0-start*1.0)/(number-1),(finish*1.0-start*1.0)/(number-1)))\n",
    "\n",
    "%time \n",
    "a=np.linspace(3,19,num=8)\n",
    "print \"\\n\",type(a),\"\\t\\t\\tThis is NumPy\"\n",
    "print a,'\\n\\n'\n",
    "\n",
    "%time\n",
    "b=func_cyc(3,19,8)\n",
    "print \"\\n\",type(b),\"\\t\\t\\tThis is Cycle\"\n",
    "print b,'\\n\\n'\n",
    "\n",
    "%time\n",
    "c=func_com(3,19,8)\n",
    "print \"\\n\",type(c),\"\\t\\t\\tThis is List Comprehention\"\n",
    "print c,'\\n\\n'\n",
    "\n",
    "print \"\\n\\nперезаполним, например:\\n\"\n",
    "\n",
    "print type(a)\n",
    "%time \n",
    "a.fill(1.0)\n",
    "\n",
    "print type(b)\n",
    "%time\n",
    "for i in range(1,len(b)):\n",
    "    b[i]=1.0\n",
    "\n",
    "print \"\\n\\nумножим на число:\\n\"\n",
    "print type(a)\n",
    "%time\n",
    "a=a*256\n",
    "print type(b)\n",
    "%time\n",
    "for i in range(0,len(b)):\n",
    "    b[i]=1.0*413\n",
    "\n",
    "\n",
    "print \"\\n\\nсложим:\\n\"\n",
    "print type(a)\n",
    "%time\n",
    "a=a+a\n",
    "print type(b)\n",
    "%time\n",
    "for i in range(0,len(b)):\n",
    "    b[i]=b[i]+b[i]\n",
    "\n",
    "print \"\\n\\nвыведем на печать:\\n\"\n",
    "print type(a)\n",
    "%time\n",
    "print a\n",
    "print type(b)\n",
    "%time\n",
    "print b\n"
   ]
  },
  {
   "cell_type": "code",
   "execution_count": 411,
   "metadata": {
    "collapsed": false
   },
   "outputs": [
    {
     "data": {
      "image/png": "[encoded data removed]",
      "text/plain": [
       "<matplotlib.figure.Figure at 0x122105d90>"
      ]
     },
     "metadata": {},
     "output_type": "display_data"
    }
   ],
   "source": [
    "#Matplotlib\n",
    "\n",
    "import matplotlib as mpl\n",
    "from matplotlib import pylab as plt\n",
    "%matplotlib inline\n",
    "import numpy as np\n",
    "from matplotlib import rc\n",
    "\n",
    "mpl.rcParams['font.family'] = 'arial'\n",
    "#plt.rc('text', usetex=True)\n",
    "#plt.rc('text', usetex=False)\n",
    "\n",
    "x=np.arange(-5,5,0.1)\n",
    "y1=0.5*x**3+x**2+x+25\n",
    "y2=np.exp(-x)\n",
    "y3=25*abs(x)\n",
    "\n",
    "z1=x**2\n",
    "z2=-x**3\n",
    "\n",
    "fig=plt.figure()\n",
    "\n",
    "a = fig.add_subplot(121)\n",
    "b = fig.add_subplot(122,axisbg='yellow')\n",
    "b.grid(True)\n",
    "a.patch.set_color('magenta')\n",
    "\n",
    "a.plot(x,y1,'b--',label='$ x^3+x^2+x+25$')\n",
    "a.plot(x,y2,'ro',label='$ e^{-x} $')\n",
    "a.plot(x,y3,'gs',label='$ 25 |x|$')\n",
    "a.legend()\n",
    "a.set_xlabel(u'Аргумент')\n",
    "a.set_ylabel(u'Values of Functions', color='green')\n",
    "\n",
    "b.plot(x,z1,'-',x,z2,'--')\n",
    "\n",
    "\n",
    "#print mpl.matplotlib_fname(),\"\\n\\n\"\n",
    "#mpl.rcParams\n",
    "\n",
    "fig.savefig('graphs.png')\n"
   ]
  },
  {
   "cell_type": "code",
   "execution_count": 412,
   "metadata": {
    "collapsed": false
   },
   "outputs": [
    {
     "name": "stdout",
     "output_type": "stream",
     "text": [
      "[[-0.62065999  0.25062886 -1.63132641  2.45268687  1.13885679]\n",
      " [ 0.40162894  0.65485961 -0.03962204  1.01294965 -1.79245974]\n",
      " [ 0.89127964  0.69175567 -0.18095732 -0.48598003 -0.76335323]\n",
      " [-0.03949634  1.14447317 -2.07957334 -0.65768197  1.90280815]\n",
      " [-1.66640649 -1.33512778 -0.15104335 -0.37507721 -0.46337353]] \n",
      "___________________\n",
      "\n",
      "the number (-2.81717712486+0j) \n",
      "and the vector [ 0.40302792+0.j  0.34218668+0.j -0.26029238+0.j -0.72987704+0.j\n",
      "  0.34641616+0.j] \n",
      "are ОК\n",
      "\n",
      "the number (0.830614724275+1.99648857566j) \n",
      "and the vector [ 0.65124760+0.j         -0.22303317-0.34979786j -0.19565880-0.25780357j\n",
      "  0.30021666+0.20632859j -0.04784017+0.40501724j] \n",
      "are ОК\n",
      "\n",
      "the number (0.830614724275-1.99648857566j) \n",
      "and the vector [ 0.65124760-0.j         -0.22303317+0.34979786j -0.19565880+0.25780357j\n",
      "  0.30021666-0.20632859j -0.04784017-0.40501724j] \n",
      "are ОК\n",
      "\n",
      "the number (-0.868955801698+0j) \n",
      "and the vector [ 0.37004073+0.j -0.44752010+0.j -0.65841276+0.j -0.23626133+0.j\n",
      " -0.41649590+0.j] \n",
      "are ОК\n",
      "\n",
      "the number (0.757090274726+0j) \n",
      "and the vector [-0.49648941+0.j  0.78577567+0.j  0.30350785+0.j -0.06474983+0.j\n",
      " -0.19936225+0.j] \n",
      "are ОК\n",
      "\n"
     ]
    }
   ],
   "source": [
    "import scipy as sp\n",
    "import numpy as np\n",
    "from scipy import linalg \n",
    "\n",
    "a=np.random.randn(5,5)\n",
    "print a,\"\\n___________________\\n\"\n",
    "la, v = linalg.eig(a)\n",
    "\n",
    "#print\"=====\\n\",la[0],'\\t',la[1],'\\t',la[2],'\\t',la[3],'\\t',la[4],\"\\n\",v[:, 0],v[:, 1],v[:, 2]\n",
    "\n",
    "for i in range(len(la)): \n",
    "    if np.round(linalg.det(a-np.identity(5)*la[i]),10)==0: \n",
    "        print 'the number',la[i],'\\nand the vector',v[:, i],'\\nare ОК\\n'\n",
    "\n",
    "\n",
    "\n",
    "\n",
    "\n"
   ]
  },
  {
   "cell_type": "code",
   "execution_count": null,
   "metadata": {
    "collapsed": true
   },
   "outputs": [],
   "source": []
  }
 ],
 "metadata": {
  "anaconda-cloud": {},
  "kernelspec": {
   "display_name": "Python [default]",
   "language": "python",
   "name": "python2"
  },
  "language_info": {
   "codemirror_mode": {
    "name": "ipython",
    "version": 2
   },
   "file_extension": ".py",
   "mimetype": "text/x-python",
   "name": "python",
   "nbconvert_exporter": "python",
   "pygments_lexer": "ipython2",
   "version": "2.7.12"
  }
 },
 "nbformat": 4,
 "nbformat_minor": 1
}
